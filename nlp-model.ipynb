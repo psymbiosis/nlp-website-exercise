{
 "cells": [
  {
   "cell_type": "code",
   "execution_count": 6,
   "metadata": {},
   "outputs": [],
   "source": [
    "import os\n",
    "import pandas as pd\n",
    "from sklearn.feature_extraction.text import TfidfVectorizer\n",
    "from sklearn.naive_bayes import MultinomialNB\n",
    "from sklearn.pipeline import Pipeline\n",
    "from sklearn.cluster import KMeans\n",
    "import pickle\n"
   ]
  },
  {
   "cell_type": "code",
   "execution_count": 9,
   "metadata": {},
   "outputs": [
    {
     "data": {
      "text/html": [
       "<div>\n",
       "<style scoped>\n",
       "    .dataframe tbody tr th:only-of-type {\n",
       "        vertical-align: middle;\n",
       "    }\n",
       "\n",
       "    .dataframe tbody tr th {\n",
       "        vertical-align: top;\n",
       "    }\n",
       "\n",
       "    .dataframe thead th {\n",
       "        text-align: right;\n",
       "    }\n",
       "</style>\n",
       "<table border=\"1\" class=\"dataframe\">\n",
       "  <thead>\n",
       "    <tr style=\"text-align: right;\">\n",
       "      <th></th>\n",
       "      <th>document_type</th>\n",
       "      <th>web_url</th>\n",
       "      <th>lead_paragraph</th>\n",
       "      <th>abstract</th>\n",
       "      <th>snippet</th>\n",
       "      <th>news_desk</th>\n",
       "      <th>word_count</th>\n",
       "      <th>source</th>\n",
       "      <th>section_name</th>\n",
       "      <th>subsection_name</th>\n",
       "      <th>_id</th>\n",
       "      <th>pub_date</th>\n",
       "      <th>print_page</th>\n",
       "      <th>headline</th>\n",
       "      <th>content</th>\n",
       "    </tr>\n",
       "  </thead>\n",
       "  <tbody>\n",
       "    <tr>\n",
       "      <th>0</th>\n",
       "      <td>article</td>\n",
       "      <td>http://www.nytimes.com/2013/10/03/sports/footb...</td>\n",
       "      <td>You would think that in a symmetric zero-sum s...</td>\n",
       "      <td>None</td>\n",
       "      <td>You would think that in a symmetric zero-sum s...</td>\n",
       "      <td>Sports</td>\n",
       "      <td>347</td>\n",
       "      <td>The New York Times</td>\n",
       "      <td>Sports</td>\n",
       "      <td>Pro Football</td>\n",
       "      <td>524d4e3a38f0d8198974001f</td>\n",
       "      <td>2013-10-03T00:00:00Z</td>\n",
       "      <td>None</td>\n",
       "      <td>Week 5 Probabilities: Why Offense Is More Impo...</td>\n",
       "      <td>the original goal building model football fore...</td>\n",
       "    </tr>\n",
       "    <tr>\n",
       "      <th>1</th>\n",
       "      <td>article</td>\n",
       "      <td>http://www.nytimes.com/2013/10/03/us/new-immig...</td>\n",
       "      <td>House Democrats on Wednesday unveiled an immig...</td>\n",
       "      <td>House Democrats unveil immigration bill that p...</td>\n",
       "      <td>House Democrats on Wednesday unveiled an immig...</td>\n",
       "      <td>National</td>\n",
       "      <td>83</td>\n",
       "      <td>The New York Times</td>\n",
       "      <td>U.S.</td>\n",
       "      <td>None</td>\n",
       "      <td>524cf71338f0d8198973ff7b</td>\n",
       "      <td>2013-10-03T00:00:00Z</td>\n",
       "      <td>21</td>\n",
       "      <td>New Immigration Bill Put Forward</td>\n",
       "      <td>house unveiled immigration bill provides path ...</td>\n",
       "    </tr>\n",
       "    <tr>\n",
       "      <th>2</th>\n",
       "      <td>article</td>\n",
       "      <td>http://www.nytimes.com/2013/10/03/us/arizona-j...</td>\n",
       "      <td>A federal judge on Wednesday ordered the appoi...</td>\n",
       "      <td>Federal Judge Murray Snow orders the appointme...</td>\n",
       "      <td>A federal judge on Wednesday ordered the appoi...</td>\n",
       "      <td>National</td>\n",
       "      <td>160</td>\n",
       "      <td>The New York Times</td>\n",
       "      <td>U.S.</td>\n",
       "      <td>None</td>\n",
       "      <td>524cf50e38f0d8198973ff79</td>\n",
       "      <td>2013-10-03T00:00:00Z</td>\n",
       "      <td>21</td>\n",
       "      <td>Arizona: Judge Orders Monitor to Oversee Maric...</td>\n",
       "      <td>federal judge wednesday ordered appointment in...</td>\n",
       "    </tr>\n",
       "    <tr>\n",
       "      <th>3</th>\n",
       "      <td>article</td>\n",
       "      <td>http://www.nytimes.com/2013/10/03/us/texas-sta...</td>\n",
       "      <td>Texas has turned to a compounding pharmacy to ...</td>\n",
       "      <td>Documents show that Texas, nation's most activ...</td>\n",
       "      <td>Texas has turned to a compounding pharmacy to ...</td>\n",
       "      <td>National</td>\n",
       "      <td>112</td>\n",
       "      <td>The New York Times</td>\n",
       "      <td>U.S.</td>\n",
       "      <td>None</td>\n",
       "      <td>524cf39a38f0d8198973ff78</td>\n",
       "      <td>2013-10-03T00:00:00Z</td>\n",
       "      <td>21</td>\n",
       "      <td>Texas: State Bought Execution Drugs From a Com...</td>\n",
       "      <td>texas nation’s active death-penalty state turn...</td>\n",
       "    </tr>\n",
       "    <tr>\n",
       "      <th>4</th>\n",
       "      <td>article</td>\n",
       "      <td>http://www.nytimes.com/2013/10/03/sports/tenni...</td>\n",
       "      <td>Rafael Nadal, aiming to end Novak Djokovic’s r...</td>\n",
       "      <td>None</td>\n",
       "      <td>Rafael Nadal, aiming to end Novak Djokovic’s r...</td>\n",
       "      <td>Sports</td>\n",
       "      <td>49</td>\n",
       "      <td>The New York Times</td>\n",
       "      <td>Sports</td>\n",
       "      <td>Tennis</td>\n",
       "      <td>524cf28b38f0d8198973ff73</td>\n",
       "      <td>2013-10-03T00:00:00Z</td>\n",
       "      <td>14</td>\n",
       "      <td>Nadal on Track for No. 1 Spot</td>\n",
       "      <td>rafael nadal aiming end novak djokovic’s run 1...</td>\n",
       "    </tr>\n",
       "  </tbody>\n",
       "</table>\n",
       "</div>"
      ],
      "text/plain": [
       "  document_type                                            web_url  \\\n",
       "0       article  http://www.nytimes.com/2013/10/03/sports/footb...   \n",
       "1       article  http://www.nytimes.com/2013/10/03/us/new-immig...   \n",
       "2       article  http://www.nytimes.com/2013/10/03/us/arizona-j...   \n",
       "3       article  http://www.nytimes.com/2013/10/03/us/texas-sta...   \n",
       "4       article  http://www.nytimes.com/2013/10/03/sports/tenni...   \n",
       "\n",
       "                                      lead_paragraph  \\\n",
       "0  You would think that in a symmetric zero-sum s...   \n",
       "1  House Democrats on Wednesday unveiled an immig...   \n",
       "2  A federal judge on Wednesday ordered the appoi...   \n",
       "3  Texas has turned to a compounding pharmacy to ...   \n",
       "4  Rafael Nadal, aiming to end Novak Djokovic’s r...   \n",
       "\n",
       "                                            abstract  \\\n",
       "0                                               None   \n",
       "1  House Democrats unveil immigration bill that p...   \n",
       "2  Federal Judge Murray Snow orders the appointme...   \n",
       "3  Documents show that Texas, nation's most activ...   \n",
       "4                                               None   \n",
       "\n",
       "                                             snippet news_desk word_count  \\\n",
       "0  You would think that in a symmetric zero-sum s...    Sports        347   \n",
       "1  House Democrats on Wednesday unveiled an immig...  National         83   \n",
       "2  A federal judge on Wednesday ordered the appoi...  National        160   \n",
       "3  Texas has turned to a compounding pharmacy to ...  National        112   \n",
       "4  Rafael Nadal, aiming to end Novak Djokovic’s r...    Sports         49   \n",
       "\n",
       "               source section_name subsection_name                       _id  \\\n",
       "0  The New York Times       Sports    Pro Football  524d4e3a38f0d8198974001f   \n",
       "1  The New York Times         U.S.            None  524cf71338f0d8198973ff7b   \n",
       "2  The New York Times         U.S.            None  524cf50e38f0d8198973ff79   \n",
       "3  The New York Times         U.S.            None  524cf39a38f0d8198973ff78   \n",
       "4  The New York Times       Sports          Tennis  524cf28b38f0d8198973ff73   \n",
       "\n",
       "               pub_date print_page  \\\n",
       "0  2013-10-03T00:00:00Z       None   \n",
       "1  2013-10-03T00:00:00Z         21   \n",
       "2  2013-10-03T00:00:00Z         21   \n",
       "3  2013-10-03T00:00:00Z         21   \n",
       "4  2013-10-03T00:00:00Z         14   \n",
       "\n",
       "                                            headline  \\\n",
       "0  Week 5 Probabilities: Why Offense Is More Impo...   \n",
       "1                   New Immigration Bill Put Forward   \n",
       "2  Arizona: Judge Orders Monitor to Oversee Maric...   \n",
       "3  Texas: State Bought Execution Drugs From a Com...   \n",
       "4                      Nadal on Track for No. 1 Spot   \n",
       "\n",
       "                                             content  \n",
       "0  the original goal building model football fore...  \n",
       "1  house unveiled immigration bill provides path ...  \n",
       "2  federal judge wednesday ordered appointment in...  \n",
       "3  texas nation’s active death-penalty state turn...  \n",
       "4  rafael nadal aiming end novak djokovic’s run 1...  "
      ]
     },
     "execution_count": 9,
     "metadata": {},
     "output_type": "execute_result"
    }
   ],
   "source": [
    "articles  = pd.read_pickle('data/articles.pkl')\n",
    "articles.head()"
   ]
  },
  {
   "cell_type": "code",
   "execution_count": 15,
   "metadata": {},
   "outputs": [],
   "source": [
    "#corpus = list(articles['content'])\n",
    "target = articles['news_desk']\n",
    "content = articles['content']"
   ]
  },
  {
   "cell_type": "code",
   "execution_count": 19,
   "metadata": {},
   "outputs": [
    {
     "data": {
      "text/plain": [
       "Pipeline(memory=None,\n",
       "     steps=[('vectorizer', TfidfVectorizer(analyzer='word', binary=False, decode_error='strict',\n",
       "        dtype=<class 'numpy.float64'>, encoding='utf-8', input='content',\n",
       "        lowercase=True, max_df=1.0, max_features=None, min_df=1,\n",
       "        ngram_range=(1, 1), norm='l2', preprocessor=None, smooth_idf=...e,\n",
       "        vocabulary=None)), ('model', MultinomialNB(alpha=1.0, class_prior=None, fit_prior=True))])"
      ]
     },
     "execution_count": 19,
     "metadata": {},
     "output_type": "execute_result"
    }
   ],
   "source": [
    "#vec = TfidfVectorizer(stop_word='english')\n",
    "#model = MultinomialNB()\n",
    "\n",
    "pipeline = Pipeline([\n",
    "    ('vectorizer', TfidfVectorizer(stop_words='english')),\n",
    "    ('model', MultinomialNB())\n",
    "])\n",
    "pipeline.fit(content, target)"
   ]
  },
  {
   "cell_type": "code",
   "execution_count": 31,
   "metadata": {},
   "outputs": [],
   "source": [
    "nb = pipeline.steps[1][1]"
   ]
  },
  {
   "cell_type": "code",
   "execution_count": 36,
   "metadata": {},
   "outputs": [],
   "source": [
    "classes = nb.classes_"
   ]
  },
  {
   "cell_type": "code",
   "execution_count": 35,
   "metadata": {},
   "outputs": [],
   "source": [
    "test = ['score touchdown win', 'profit money employee, labor skill', 'shoe dress, show style']\n",
    "test_probs = pipeline.predict_proba(test)"
   ]
  },
  {
   "cell_type": "code",
   "execution_count": 37,
   "metadata": {},
   "outputs": [
    {
     "name": "stdout",
     "output_type": "stream",
     "text": [
      "Arts&Leisure : 0.003970195719783771\n",
      "BookReview : 0.00014949887786510165\n",
      "Business : 0.0318472580009575\n",
      "Culture : 0.030069868810849325\n",
      "Editorial : 0.01657380381455399\n",
      "Foreign : 0.04792081999195477\n",
      "Letters : 0.010113630555868591\n",
      "Magazine : 0.00030063868087680344\n",
      "Metro : 0.0004481123375282569\n",
      "NODESK : 0.00015092868325069863\n",
      "National : 0.029552978846992425\n",
      "NewsDesk : 0.0001495263239172384\n",
      "OpEd : 0.009562906418895668\n",
      "RealEstate : 0.00014951446070753644\n",
      "Sports : 0.8119136981178793\n",
      "SundayBusiness : 0.0025612478197040794\n",
      "Travel : 0.0003096265330967394\n",
      "Weekend : 0.004255746005317746\n"
     ]
    }
   ],
   "source": [
    "for i, prob in enumerate(test_probs[0]):\n",
    "    print(classes[i], ':', prob)"
   ]
  },
  {
   "cell_type": "code",
   "execution_count": 38,
   "metadata": {},
   "outputs": [],
   "source": [
    "with open('article_classifier.pkl', 'wb') as f:\n",
    "    pickle.dump(pipeline, f)"
   ]
  },
  {
   "cell_type": "code",
   "execution_count": null,
   "metadata": {},
   "outputs": [],
   "source": []
  }
 ],
 "metadata": {
  "kernelspec": {
   "display_name": "Python 3",
   "language": "python",
   "name": "python3"
  },
  "language_info": {
   "codemirror_mode": {
    "name": "ipython",
    "version": 3
   },
   "file_extension": ".py",
   "mimetype": "text/x-python",
   "name": "python",
   "nbconvert_exporter": "python",
   "pygments_lexer": "ipython3",
   "version": "3.7.1"
  }
 },
 "nbformat": 4,
 "nbformat_minor": 2
}
